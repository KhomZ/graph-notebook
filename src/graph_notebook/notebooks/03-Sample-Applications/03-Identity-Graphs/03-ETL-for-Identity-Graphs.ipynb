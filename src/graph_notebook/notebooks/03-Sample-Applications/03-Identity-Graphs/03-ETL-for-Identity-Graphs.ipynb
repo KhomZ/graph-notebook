{
 "cells": [
  {
   "cell_type": "markdown",
   "metadata": {},
   "source": [
    "## Source Data\n",
    "\n",
    "The use of graph for identity resolution and Consumer 360 provides countless possibilities to stitch disparate datasets together for new insights. The following sections list a number of common datasets that may be found within an organization for building an identity graph.  This is not an exhaustive list and many organizations will have other datasets that may be useful for these purposes.  Primarily, organizations will have a combination of user profile data, user logs (from websites or mobile applications), and product transaction data.  Beyond these datasets, customers may also have access to non-private, third-party information, such as census data, social media posts, call center data, or others that may be combined with these datasets to generate further insights.  Below, we will cover some background on the basic datasets needed to get started.\n",
    "\n",
    "### Consumer Data\n",
    "\n",
    "Most organizations will have first-party data related to their known consumers.  This could be in the form of data hosted in a Customer Relationship Management (CRM) platform, in the form of user profiles in an online platform, or some other database containing a person and their identifying attributes.  In many cases, this data may be considered Personal Identifiable Information, or PII, and should be stored in a secure manner with a user’s privacy kept in mind.  As an example, a very basic representation of this data is shown in the table below using fake data.\n",
    "\n",
    "| Username/ID | First Name  | Last Name  | Address       | Phone Number | Email Address | Birthday |\n",
    "| ----------- | ----------- | ----- | ----- | ----- | ----- | ----- |\n",
    "| larry49      | Larry       | Phillips | 46505 William Flat Suite 376\\nLeslieside, MS 54982 | 780-995-4351 | lphillips@gmail.com | 3/6/1989 |\n",
    "| shawn92 | Shawn | Howard | 69792 Nicholas Landing\\nConradview, MD 73278 | 512.842.6744 | showard@yahoo.com | 12/12/1973 |\n",
    "| robert62 | Robert | Montgomery | 5429 Schroeder Center\\nNew Beth, MO 13081 | (901)122-1751 | robmont@gmail.com | 9/5/1996 |\n",
    "| cynthia73 | Cynthia | Williams | 587 Scott Valley Apt. 259\\nNorth Lisahaven, RI 47817 | 161.468.1526 | cynthiaw@yahoo.com | 2/18/1987 |\n",
    "\n",
    "\n",
    "For the etl example we are going to generate some Fake data, if you data is already in format upload your data in S3 bucket"
   ]
  },
  {
   "cell_type": "code",
   "execution_count": null,
   "id": "43576995",
   "metadata": {},
   "outputs": [],
   "source": [
    "%%bash \n",
    "\n",
    "pip3 install faker"
   ]
  },
  {
   "cell_type": "code",
   "execution_count": null,
   "id": "281b8e69",
   "metadata": {},
   "outputs": [],
   "source": [
    "import csv\n",
    "import random\n",
    "from faker import Faker\n",
    "import numpy as np\n",
    "\n",
    "myseed = 1234\n",
    "\n",
    "Faker.seed(myseed)\n",
    "random.seed(myseed)\n",
    "np.random.seed(myseed)\n",
    "\n",
    "print(Faker().uuid4())\n",
    "print(random.random())\n",
    "print(np.random.normal(0, 25, size=10))"
   ]
  },
  {
   "cell_type": "code",
   "execution_count": null,
   "id": "ccda4a39",
   "metadata": {},
   "outputs": [],
   "source": [
    "\n",
    "fake = Faker()\n",
    "userSize = 1000\n",
    "\n",
    "usersList = []\n",
    "for x in range(userSize):\n",
    "    newUser = {}\n",
    "    newUser['id'] =  Faker().unique.user_name()\n",
    "    #newUser['status:String'] = 'Active' if random.random() < 0.98 else 'Inactive'\n",
    "    newUser['name'] = fake.name()\n",
    "    newUser['phone'] = fake.phone_number()\n",
    "    newUser['email'] = fake.email()\n",
    "    newUser['city'] = fake.city()\n",
    "    newUser['country'] = fake.country()\n",
    "    newUser['zipcode'] = fake.zipcode()\n",
    "    # newUser['address'] = fake.address()\n",
    "    newUser['joinedDate'] = fake.date_between(start_date='-5y')\n",
    "    newUser['updatedDate'] = fake.date_between(start_date=newUser['joinedDate'])\n",
    "    #newUser['reputation:Double'] = np.random.normal(0, 25)\n",
    "    #newUser['altruism:Double'] = abs(np.random.normal(0, 10))\n",
    "    #newUser['duty:Double'] = abs(np.random.normal(0, 3))\n",
    "    #newUser['mischief:Double'] = np.random.normal(0, 1.5)\n",
    "    #newUser['malice:Double'] = abs(np.random.normal(0, 1))\n",
    "    #newUser['atrisk:Double'] = abs(np.random.normal(0, 1))\n",
    "    usersList.append(newUser)\n",
    "    \n",
    "print(usersList[1])"
   ]
  },
  {
   "cell_type": "code",
   "execution_count": null,
   "id": "47036993",
   "metadata": {},
   "outputs": [],
   "source": [
    "toExport = [usersList]\n",
    "filenames = ['2021_user_vertices']\n",
    "\n",
    "for index, currentList in enumerate(toExport):\n",
    "    with open('./etl/' + filenames[index] + '.csv', 'w') as csvFile:\n",
    "        writer = csv.DictWriter(csvFile, escapechar='\\n',quoting=csv.QUOTE_NONE,fieldnames = currentList[0].keys())\n",
    "        # writer.writeheader()\n",
    "        for p in currentList:\n",
    "            writer.writerow(p)\n",
    "    csvFile.close()"
   ]
  },
  {
   "cell_type": "code",
   "execution_count": null,
   "id": "914128d2",
   "metadata": {},
   "outputs": [],
   "source": [
    "%%bash\n",
    "\n",
    "aws s3 cp ./etl/ s3://abhmish-neptune-glue/data/ --recursive"
   ]
  },
  {
   "cell_type": "markdown",
   "id": "772e80ce",
   "metadata": {},
   "source": [
    "## Set default property values"
   ]
  },
  {
   "cell_type": "code",
   "execution_count": null,
   "id": "5e4ce207",
   "metadata": {},
   "outputs": [],
   "source": [
    "s3_bucket = \"s3://<bucketname>/\"\n",
    "iamrole = \"<rolename>\"\n",
    "iamroleArn = \"<roleArn>\"\n",
    "glue_database_name = \"identitygraphsource\"\n",
    "glue_table_demographics = \"person\"\n",
    "job_demographics_name = \"job_demographics_name\"\n",
    "job_usetelemetry_name = \"job_demographics_name\"\n",
    "job_transactions_name = \"job_transactions_name\"\n",
    "aws_region = \"us-west-2\"\n",
    "db_vpc_id = \"<vpcid>\"\n",
    "neptune_endpoint = 'wss://<neptuneclusterendpoint>:8182/gremlin'\n"
   ]
  },
  {
   "cell_type": "markdown",
   "id": "e75000e8",
   "metadata": {},
   "source": [
    "## Import boto3 and create clients"
   ]
  },
  {
   "cell_type": "code",
   "execution_count": null,
   "id": "f13ab68f",
   "metadata": {},
   "outputs": [],
   "source": [
    "#create boto3 clients\n",
    "\n",
    "import boto3\n",
    "\n",
    "session = boto3.Session(region_name=aws_region)\n",
    "\n",
    "ec2_resource = session.resource(\"ec2\")\n",
    "ec2_client = session.client(\"ec2\")\n",
    "glue_client = session.client(\"glue\")"
   ]
  },
  {
   "cell_type": "code",
   "execution_count": null,
   "id": "344386cd",
   "metadata": {},
   "outputs": [],
   "source": [
    "listOfVPCs = client.describe_vpcs() \n",
    "\n",
    "listOfVPCs[\"Vpcs\"]"
   ]
  },
  {
   "cell_type": "markdown",
   "id": "18a248cd",
   "metadata": {},
   "source": [
    "## Create Glue database"
   ]
  },
  {
   "cell_type": "code",
   "execution_count": null,
   "id": "0bb735ac",
   "metadata": {},
   "outputs": [],
   "source": [
    "response = glue_client.create_database(\n",
    "    DatabaseInput={\n",
    "        'Name': 'identitygraphsource',\n",
    "        'Description': 'identitygraphsource'\n",
    "    }\n",
    ")\n",
    "\n",
    "print(response)"
   ]
  },
  {
   "cell_type": "markdown",
   "id": "f03e6ab1",
   "metadata": {},
   "source": [
    "## Create Glue table"
   ]
  },
  {
   "cell_type": "code",
   "execution_count": null,
   "id": "3527c053",
   "metadata": {},
   "outputs": [],
   "source": [
    "response = glue_client.create_table(\n",
    "    DatabaseName='identitygraphsource',\n",
    "        TableInput={\n",
    "            'Name': 'person',\n",
    "            'Description': 'person',\n",
    "            'StorageDescriptor': {\n",
    "                \"Columns\":[ \n",
    "                    {\"Name\":\"id\", \"Type\":\"string\"}, \n",
    "                    {\"Name\":\"name\", \"Type\":\"string\"}, \n",
    "                    {\"Name\":\"phone\", \"Type\":\"string\"}, \n",
    "                    {\"Name\":\"email\", \"Type\":\"string\"}, \n",
    "                    {\"Name\":\"city\", \"Type\":\"string\"}, \n",
    "                    {\"Name\":\"country\", \"Type\":\"string\"}, \n",
    "                    {\"Name\":\"pincode\", \"Type\":\"string\"}, \n",
    "                    {\"Name\":\"joinedDate\", \"Type\":\"string\"}, \n",
    "                    {\"Name\":\"updatedDate\", \"Type\":\"string\"}\n",
    "                ],\n",
    "                \"Location\": s3_bucket + \"data/\",\n",
    "                \"InputFormat\": \"org.apache.hadoop.mapred.TextInputFormat\",\n",
    "                \"SerdeInfo\":{ \n",
    "                    \"SerializationLibrary\":\"org.apache.hadoop.hive.serde2.OpenCSVSerde\",\n",
    "                    \"Parameters\":{ \n",
    "                        \"separatorChar\":\",\",\n",
    "                        \"quoteChar\":\"\\\"\"\n",
    "                    }\n",
    "                }\n",
    "            },\n",
    "            \"Parameters\":{ \n",
    "                \"componenttype\":\"vertex\"\n",
    "            } \n",
    "        }\n",
    "    )"
   ]
  },
  {
   "cell_type": "markdown",
   "id": "149db815",
   "metadata": {},
   "source": [
    "## upload script to s3 bucket paths\n",
    " s3://&lt;bucketname>/script/neptune-glue-person.py\n"
   ]
  },
  {
   "cell_type": "code",
   "execution_count": null,
   "id": "8a59a4ff",
   "metadata": {},
   "outputs": [],
   "source": [
    "%%bash\n",
    "\n",
    "aws s3 cp neptune-glue-person.py s3://abhmish-neptune-glue/script/neptune-glue-person.py"
   ]
  },
  {
   "cell_type": "markdown",
   "metadata": {},
   "source": [
    "## setup neptune python util\n",
    " s3://&lt;bucketname>/lib/neptune_python_utils.zip"
   ]
  },
  {
   "cell_type": "code",
   "execution_count": null,
   "id": "a02d4017",
   "metadata": {},
   "outputs": [],
   "source": [
    "%%bash\n",
    "\n",
    "aws s3 cp neptune_python_utils.zip s3://abhmish-neptune-glue/lib/neptune_python_utils.zip"
   ]
  },
  {
   "cell_type": "markdown",
   "id": "db229c48",
   "metadata": {},
   "source": [
    "## Create Glue Connections"
   ]
  },
  {
   "cell_type": "code",
   "execution_count": null,
   "id": "e8f1420d",
   "metadata": {},
   "outputs": [],
   "source": [
    "# find subnets\n",
    "\n",
    "\n",
    "session = boto3.Session(region_name=aws_region)\n",
    "\n",
    "ec2_resource = session.resource(\"ec2\")\n",
    "ec2_client = session.client(\"ec2\")\n",
    "glue_client = session.client(\"glue\")\n",
    "\n",
    "subnet_ids = []\n",
    "\n",
    "for vpc in ec2_resource.vpcs.all():\n",
    "    \n",
    "    if vpc.id == db_vpc_id:\n",
    "        for subnet in vpc.subnets.all():\n",
    "            subnet_ids.append(subnet.id)\n",
    "\n",
    "\n",
    "subnets = ec2_client.describe_subnets(SubnetIds=subnet_ids)\n",
    "#print(ec2_client.describe_subnets(SubnetIds=subnet_ids))"
   ]
  },
  {
   "cell_type": "code",
   "execution_count": null,
   "id": "7f036ff2",
   "metadata": {},
   "outputs": [],
   "source": [
    "# create connection objects from subnets\n",
    "connections = []\n",
    "\n",
    "for subnet in subnets[\"Subnets\"]:\n",
    "    connectionName = 'connection' + subnet[\"SubnetId\"]\n",
    "    \n",
    "    response = glue_client.create_connection(\n",
    "        ConnectionInput={\n",
    "            'Name': connectionName,\n",
    "            'Description': connectionName,\n",
    "            'ConnectionType': 'NETWORK',\n",
    "            'ConnectionProperties': {},\n",
    "            'PhysicalConnectionRequirements': {\n",
    "                'SubnetId': subnet[\"SubnetId\"],\n",
    "                'SecurityGroupIdList': [\n",
    "                    'sg-0d777aa7be053ddf8',\n",
    "                ],\n",
    "                'AvailabilityZone': subnet[\"AvailabilityZone\"]\n",
    "            }\n",
    "        }\n",
    "    )\n",
    "    \n",
    "    connections.append(connectionName)\n",
    "    \n",
    "    print(response)\n",
    "    "
   ]
  },
  {
   "cell_type": "code",
   "execution_count": null,
   "id": "40716a1d",
   "metadata": {},
   "outputs": [],
   "source": [
    "connections"
   ]
  },
  {
   "cell_type": "markdown",
   "id": "76bfef78",
   "metadata": {},
   "source": [
    "## Create Glue Job"
   ]
  },
  {
   "cell_type": "code",
   "execution_count": null,
   "id": "cf701042",
   "metadata": {},
   "outputs": [],
   "source": [
    "response = glue_client.create_job(\n",
    "    Name='neptune104',\n",
    "    Description='neptune104',\n",
    "    Role= iamrole,\n",
    "    ExecutionProperty={\n",
    "        'MaxConcurrentRuns': 123\n",
    "    },\n",
    "    Command={\n",
    "        'Name': 'glueetl',\n",
    "        'ScriptLocation': s3_bucket + 'script/neptune-glue-person.py',\n",
    "        'PythonVersion': '3'\n",
    "    },\n",
    "    DefaultArguments={\n",
    "        '--additional-python-modules': s3_bucket + 'lib/neptune_python_utils.zip',\n",
    "        '--extra-py-files': s3_bucket + 'lib/neptune_python_utils.zip',\n",
    "        '--NEPTUNE_CONNECTION_NAME': neptune_endpoint,\n",
    "        '--DATABASE_NAME': 'identitygraphsource',\n",
    "        '--CONNECT_TO_NEPTUNE_ROLE_ARN': iamroleArn,\n",
    "        '--AWS_REGION':'us-west-2'\n",
    "        \n",
    "    },\n",
    "    NonOverridableArguments={},\n",
    "    Connections={\n",
    "        'Connections': connections\n",
    "    },\n",
    "    MaxRetries=0,\n",
    "    Timeout=123,\n",
    "    GlueVersion='2.0',\n",
    "    NumberOfWorkers=123,\n",
    "    WorkerType='G.2X'\n",
    ")"
   ]
  },
  {
   "cell_type": "markdown",
   "id": "987d5088",
   "metadata": {},
   "source": [
    "## Start Glue Job"
   ]
  },
  {
   "cell_type": "code",
   "execution_count": null,
   "id": "860e7257",
   "metadata": {},
   "outputs": [],
   "source": [
    "%%bash\n",
    "\n",
    "aws glue start-job-run --job-name 'neptune104'"
   ]
  },
  {
   "cell_type": "markdown",
   "id": "a2beec6e",
   "metadata": {},
   "source": [
    "## Check Job Status"
   ]
  },
  {
   "cell_type": "code",
   "execution_count": null,
   "id": "af05147f",
   "metadata": {},
   "outputs": [],
   "source": [
    "%%bash\n",
    "\n",
    "aws glue get-job-run --job-name 'neptune104' --run-id 'jr_124a811c50e8763087f3232c6e5ee394b0d7f50bfbd6030325dfce12df45b84f'"
   ]
  },
  {
   "cell_type": "markdown",
   "id": "9e494e89",
   "metadata": {},
   "source": [
    "## Test query to verify data"
   ]
  },
  {
   "cell_type": "code",
   "execution_count": null,
   "id": "3e9ae849",
   "metadata": {},
   "outputs": [],
   "source": [
    "%%gremlin\n",
    "\n",
    "\n",
    "g.V().hasLabel(\"User\").limit(20).outE().inV().optional(outE().inV()).path()"
   ]
  }
 ],
 "metadata": {
  "kernelspec": {
   "display_name": "Python 3",
   "language": "python",
   "name": "python3"
  },
  "language_info": {
   "codemirror_mode": {
    "name": "ipython",
    "version": 3
   },
   "file_extension": ".py",
   "mimetype": "text/x-python",
   "name": "python",
   "nbconvert_exporter": "python",
   "pygments_lexer": "ipython3",
   "version": "3.6.13"
  }
 },
 "nbformat": 4,
 "nbformat_minor": 5
}
